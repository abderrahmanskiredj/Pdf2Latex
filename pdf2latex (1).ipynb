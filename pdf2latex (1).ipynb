{
  "nbformat": 4,
  "nbformat_minor": 0,
  "metadata": {
    "colab": {
      "provenance": []
    },
    "kernelspec": {
      "name": "python3",
      "display_name": "Python 3"
    },
    "language_info": {
      "name": "python"
    }
  },
  "cells": [
    {
      "cell_type": "markdown",
      "source": [
        "# Installations"
      ],
      "metadata": {
        "id": "Rv4PkUI5YMEg"
      }
    },
    {
      "cell_type": "code",
      "execution_count": 1,
      "metadata": {
        "colab": {
          "base_uri": "https://localhost:8080/"
        },
        "id": "FhqQBnJ4LHmc",
        "outputId": "8dfaac83-9363-4cd9-9682-e8e36d62dfb3"
      },
      "outputs": [
        {
          "output_type": "stream",
          "name": "stdout",
          "text": [
            "Collecting pymupdf\n",
            "  Downloading pymupdf-1.25.3-cp39-abi3-manylinux2014_x86_64.manylinux_2_17_x86_64.whl.metadata (3.4 kB)\n",
            "Requirement already satisfied: openai in /usr/local/lib/python3.11/dist-packages (1.61.1)\n",
            "Requirement already satisfied: anyio<5,>=3.5.0 in /usr/local/lib/python3.11/dist-packages (from openai) (3.7.1)\n",
            "Requirement already satisfied: distro<2,>=1.7.0 in /usr/local/lib/python3.11/dist-packages (from openai) (1.9.0)\n",
            "Requirement already satisfied: httpx<1,>=0.23.0 in /usr/local/lib/python3.11/dist-packages (from openai) (0.28.1)\n",
            "Requirement already satisfied: jiter<1,>=0.4.0 in /usr/local/lib/python3.11/dist-packages (from openai) (0.8.2)\n",
            "Requirement already satisfied: pydantic<3,>=1.9.0 in /usr/local/lib/python3.11/dist-packages (from openai) (2.10.6)\n",
            "Requirement already satisfied: sniffio in /usr/local/lib/python3.11/dist-packages (from openai) (1.3.1)\n",
            "Requirement already satisfied: tqdm>4 in /usr/local/lib/python3.11/dist-packages (from openai) (4.67.1)\n",
            "Requirement already satisfied: typing-extensions<5,>=4.11 in /usr/local/lib/python3.11/dist-packages (from openai) (4.12.2)\n",
            "Requirement already satisfied: idna>=2.8 in /usr/local/lib/python3.11/dist-packages (from anyio<5,>=3.5.0->openai) (3.10)\n",
            "Requirement already satisfied: certifi in /usr/local/lib/python3.11/dist-packages (from httpx<1,>=0.23.0->openai) (2025.1.31)\n",
            "Requirement already satisfied: httpcore==1.* in /usr/local/lib/python3.11/dist-packages (from httpx<1,>=0.23.0->openai) (1.0.7)\n",
            "Requirement already satisfied: h11<0.15,>=0.13 in /usr/local/lib/python3.11/dist-packages (from httpcore==1.*->httpx<1,>=0.23.0->openai) (0.14.0)\n",
            "Requirement already satisfied: annotated-types>=0.6.0 in /usr/local/lib/python3.11/dist-packages (from pydantic<3,>=1.9.0->openai) (0.7.0)\n",
            "Requirement already satisfied: pydantic-core==2.27.2 in /usr/local/lib/python3.11/dist-packages (from pydantic<3,>=1.9.0->openai) (2.27.2)\n",
            "Downloading pymupdf-1.25.3-cp39-abi3-manylinux2014_x86_64.manylinux_2_17_x86_64.whl (20.0 MB)\n",
            "\u001b[2K   \u001b[90m━━━━━━━━━━━━━━━━━━━━━━━━━━━━━━━━━━━━━━━━\u001b[0m \u001b[32m20.0/20.0 MB\u001b[0m \u001b[31m49.3 MB/s\u001b[0m eta \u001b[36m0:00:00\u001b[0m\n",
            "\u001b[?25hInstalling collected packages: pymupdf\n",
            "Successfully installed pymupdf-1.25.3\n"
          ]
        }
      ],
      "source": [
        "pip install pymupdf openai"
      ]
    },
    {
      "cell_type": "markdown",
      "source": [
        "# Your arguments here"
      ],
      "metadata": {
        "id": "Ym6kWKFhYQ_O"
      }
    },
    {
      "cell_type": "code",
      "source": [
        "LLM_NAME = \"gpt-4o\"\n",
        "PDF_PATH = \"1704.00805v4.pdf\"\n",
        "START_PAGE = 2\n",
        "END_PAGE = 9\n",
        "openai_key = \"your openai key here\""
      ],
      "metadata": {
        "id": "DKK_n7kuYGUm"
      },
      "execution_count": null,
      "outputs": []
    },
    {
      "cell_type": "markdown",
      "source": [
        "# Functions"
      ],
      "metadata": {
        "id": "3SlbzUWgYzIm"
      }
    },
    {
      "cell_type": "code",
      "source": [
        "import fitz  # PyMuPDF\n",
        "import os\n",
        "import base64\n",
        "from openai import OpenAI\n",
        "\n",
        "\n",
        "def pdf_to_images(pdf_path, output_folder, start_page, end_page, zoom=4):\n",
        "    \"\"\"\n",
        "    Convert specified PDF pages to high-quality images.\n",
        "\n",
        "    :param pdf_path: Path to the PDF file\n",
        "    :param output_folder: Output directory for images\n",
        "    :param start_page: First page to convert (1-based)\n",
        "    :param end_page: Last page to convert (1-based)\n",
        "    :param zoom: Zoom factor for image quality (default=4)\n",
        "    \"\"\"\n",
        "    # Validate page range\n",
        "    if start_page > end_page:\n",
        "        raise ValueError(\"Start page cannot be greater than end page\")\n",
        "\n",
        "    # Create output folder if needed\n",
        "    os.makedirs(output_folder, exist_ok=True)\n",
        "\n",
        "    pdf = fitz.open(pdf_path)\n",
        "\n",
        "    # Validate page numbers\n",
        "    if end_page > len(pdf):\n",
        "        end_page = len(pdf)\n",
        "        print(f\"Adjusted end page to PDF length: {end_page}\")\n",
        "\n",
        "    for page_num in range(start_page-1, end_page):  # 0-based index\n",
        "        page = pdf.load_page(page_num)\n",
        "        mat = fitz.Matrix(zoom, zoom)\n",
        "        pix = page.get_pixmap(matrix=mat)\n",
        "        output_path = os.path.join(output_folder, f\"page_{page_num+1}.png\")\n",
        "        pix.save(output_path)\n",
        "        print(f\"Saved page {page_num+1} as {output_path}\")\n",
        "\n",
        "    pdf.close()\n",
        "\n",
        "def image_to_latex(image_path, prompt, model=LLM_NAME):\n",
        "    \"\"\"\n",
        "    Convert image to LaTeX using OpenAI's vision model.\n",
        "\n",
        "    :param image_path: Path to the image file\n",
        "    :param prompt: Instruction for the model\n",
        "    :param model: model to use\n",
        "    :return: Generated LaTeX code\n",
        "    \"\"\"\n",
        "    # Encode image to base64\n",
        "    with open(image_path, \"rb\") as image_file:\n",
        "        base64_image = base64.b64encode(image_file.read()).decode(\"utf-8\")\n",
        "\n",
        "    client = OpenAI(api_key=openai_key)\n",
        "\n",
        "    response = client.chat.completions.create(\n",
        "        model=model,\n",
        "        messages=[\n",
        "            {\n",
        "                \"role\": \"user\",\n",
        "                \"content\": [\n",
        "                    {\"type\": \"text\", \"text\": prompt},\n",
        "                    {\n",
        "                        \"type\": \"image_url\",\n",
        "                        \"image_url\": {\n",
        "                            \"url\": f\"data:image/png;base64,{base64_image}\"\n",
        "                        },\n",
        "                    },\n",
        "                ],\n",
        "            }\n",
        "        ],\n",
        "        #max_tokens=1500,\n",
        "    )\n",
        "\n",
        "    return response.choices[0].message.content\n",
        "\n",
        "def postprocess_text_output(full_latex_text):\n",
        "    preamble = full_latex_text.split('\\\\begin{document}')[0]+\"\\n\"+'\\\\begin{document}'\n",
        "    full_latex_text_processed = full_latex_text.replace(\"```latex\", \"\").replace('```', '')\n",
        "    full_latex_text_processed_splitted = full_latex_text_processed.split(\"\\documentclass{article}\")\n",
        "    full_latex_text_processed_splitted = [x for x in full_latex_text_processed_splitted if len(x.strip())>1]\n",
        "    full_latex_text_processed_splitted = [x.split('\\\\begin{document}')[-1].replace(\"\\end{document}\", \"\") for x in full_latex_text_processed_splitted]\n",
        "    full_latex_text_processed = preamble + \"\\n\\n\".join(full_latex_text_processed_splitted) + \"\\n\\end{document}\"\n",
        "    return full_latex_text_processed\n",
        "\n",
        "def main():\n",
        "\n",
        "    # ===== CONFIGURATION =====\n",
        "    PDF_PATH = \"1704.00805v4.pdf\"  # Change this to your PDF path\n",
        "    START_PAGE = 2\n",
        "    END_PAGE = 9\n",
        "    IMAGE_OUTPUT_DIR = \"pdf_images\"\n",
        "    LATEX_OUTPUT_DIR = \"latex_output\"\n",
        "    ZOOM_FACTOR = 4  # Increase for higher resolution (max 10 recommended)\n",
        "    # =========================\n",
        "\n",
        "    # Create output directories\n",
        "    os.makedirs(IMAGE_OUTPUT_DIR, exist_ok=True)\n",
        "    os.makedirs(LATEX_OUTPUT_DIR, exist_ok=True)\n",
        "\n",
        "    # Step 1: Convert PDF pages to images\n",
        "    print(\"\\nConverting PDF pages to images...\")\n",
        "    pdf_to_images(\n",
        "        pdf_path=PDF_PATH,\n",
        "        output_folder=IMAGE_OUTPUT_DIR,\n",
        "        start_page=START_PAGE,\n",
        "        end_page=END_PAGE,\n",
        "        zoom=ZOOM_FACTOR\n",
        "    )\n",
        "\n",
        "    # Step 2: Process images with OpenAI\n",
        "    print(\"\\nConverting images to LaTeX...\")\n",
        "    PROMPT = \"\"\"Convert this image to LaTeX code. Follow these rules:\n",
        "1. Use proper LaTeX syntax and environments\n",
        "2. Preserve mathematical notation exactly\n",
        "3. NO markdown formatting\n",
        "4. Ensure accurate alignment and structure\n",
        "5. The latex code should work as it is\n",
        "6. Don't include any graphics because I don't have them\n",
        "7. For the citations don't use \\cite, just write them in regular text format as they appear in the image\n",
        "\n",
        "Output ONLY the LaTeX code:\"\"\"\n",
        "    full_latex_text = \"\"\n",
        "    for page_num in range(START_PAGE, END_PAGE + 1):\n",
        "        image_path = os.path.join(IMAGE_OUTPUT_DIR, f\"page_{page_num}.png\")\n",
        "        if not os.path.exists(image_path):\n",
        "            print(f\"Skipping page {page_num} - image not found\")\n",
        "            continue\n",
        "\n",
        "        print(f\"Processing page {page_num}...\")\n",
        "        try:\n",
        "            latex_code = image_to_latex(image_path, PROMPT)\n",
        "            output_path = os.path.join(LATEX_OUTPUT_DIR, f\"page_{page_num}.tex\")\n",
        "            full_latex_text += latex_code + \"\\n\"\n",
        "            #print(full_latex_text)\n",
        "            #print('#########################')\n",
        "\n",
        "            with open(output_path, \"w\") as f:\n",
        "                f.write(latex_code)\n",
        "\n",
        "            print(f\"Successfully saved LaTeX for page {page_num}\\n\")\n",
        "        except Exception as e:\n",
        "            print(f\"Error processing page {page_num}: {str(e)}\")\n",
        "    return postprocess_text_output(full_latex_text)"
      ],
      "metadata": {
        "id": "8cK-cmDpM419"
      },
      "execution_count": 14,
      "outputs": []
    },
    {
      "cell_type": "markdown",
      "source": [
        "# Executions"
      ],
      "metadata": {
        "id": "CBH3iMGEY2aV"
      }
    },
    {
      "cell_type": "code",
      "source": [
        "full_latex_text = main()\n",
        "print(full_latex_text)"
      ],
      "metadata": {
        "id": "FHBFqQW3ZRxV"
      },
      "execution_count": null,
      "outputs": []
    },
    {
      "cell_type": "code",
      "source": [],
      "metadata": {
        "id": "v84cq6SdToyf"
      },
      "execution_count": null,
      "outputs": []
    },
    {
      "cell_type": "code",
      "source": [],
      "metadata": {
        "id": "aQ16jG8ITo0x"
      },
      "execution_count": null,
      "outputs": []
    }
  ]
}